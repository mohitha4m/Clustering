{
 "cells": [
  {
   "cell_type": "code",
   "execution_count": 65,
   "id": "eea57d36-6b56-479e-bc91-0d2553101a8b",
   "metadata": {},
   "outputs": [
    {
     "data": {
      "image/png": "[encoded data removed]",
      "text/plain": [
       "<Figure size 640x480 with 1 Axes>"
      ]
     },
     "metadata": {},
     "output_type": "display_data"
    }
   ],
   "source": [
    
    "import numpy as np\n",
    "import matplotlib.pyplot as plt\n",
    "\n",
    "def cluster(x, i, cache):\n",
    "    if i > cache['Length']:\n",
    "        return 0\n",
    "    cache['Breaks'][i-1] = False\n",
    "    if i + cache['n.min'] - 1 > cache['Length']:\n",
    "        return float('inf')\n",
    "    if np.isnan(cache['Cache'][i-1]):\n",
    "        return cache['Cache'][i-1]\n",
    "    \n",
    "    n_min = cache['n.min'] + i - 1\n",
    "    n_max = min(cache['n.max'] + i - 1, cache['Length'])\n",
    "    \n",
    "    if n_max < n_min:\n",
    "        return 0\n",
    "    \n",
    "    values = [np.var(x[i-1:k]) + cluster(x, k+1, cache) for k in range(n_min, n_max+1)]\n",
    "    j = np.argmin(values)\n",
    "    \n",
    "    cache['Breaks'][n_min + j - 1] = True\n",
    "    cache['Cache'][i-1] = values[j]\n",
    "    return values[j]\n",
    "\n",
    "# The data\n",
    "x = np.array([3,2,1,3,4,5,0,0,0,1,2,3,2,8,9,10,9,8,2,3,4,9,5,3,6])\n",
    "\n",
    "# Initialize cache and perform clustering\n",
    "n = len(x)\n",
    "\n",
    "cache = {\n",
    "    'n.min': 5,\n",
    "    'n.max': 11,\n",
    "    'Cache': np.full(n, np.nan),\n",
    "    'Breaks': np.full(n+1, False),\n",
    "    'Length': n\n",
    "}\n",
    "cluster(x, 1, cache)\n",
    "cache['Breaks'][0] = True\n",
    "\n",
    "# Display the results\n",
    "breaks = np.where(cache['Breaks'])[0]\n",
    "groups = np.cumsum(cache['Breaks'][:-1])\n",
    "averages = [np.mean(x[groups == g]) for g in np.unique(groups)]\n",
    "colors = plt.cm.terrain(np.arange(len(groups)) / len(groups))\n",
    "\n",
    "plt.scatter(range(1, n+1), x, marker='o',c=colors)\n",
    "plt.xlabel('Index')\n",
    "plt.ylabel('Rating')\n",
    "plt.show()\n",
    "\n",
    "\n"
   ]
  },
  {
   "cell_type": "code",
   "execution_count": null,
   "id": "73a99573-88e2-4da1-a88c-0314e42583f4",
   "metadata": {},
   "outputs": [],
   "source": []
  },
  {
   "cell_type": "code",
   "execution_count": null,
   "id": "8ca0dd92-17a7-4cd1-94bb-6c9d938b0a93",
   "metadata": {},
   "outputs": [],
   "source": []
  }
 ],
 "metadata": {
  "kernelspec": {
   "display_name": "Python 3 (ipykernel)",
   "language": "python",
   "name": "python3"
  },
  "language_info": {
   "codemirror_mode": {
    "name": "ipython",
    "version": 3
   },
   "file_extension": ".py",
   "mimetype": "text/x-python",
   "name": "python",
   "nbconvert_exporter": "python",
   "pygments_lexer": "ipython3",
   "version": "3.10.9"
  }
 },
 "nbformat": 4,
 "nbformat_minor": 5
}
